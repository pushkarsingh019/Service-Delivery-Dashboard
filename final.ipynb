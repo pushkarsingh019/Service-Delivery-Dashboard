{
 "cells": [
  {
   "cell_type": "code",
   "execution_count": 1,
   "metadata": {},
   "outputs": [],
   "source": [
    "import matplotlib.pyplot as plt\n",
    "import numpy as np\n",
    "import pandas as pd\n",
    "import glob\n",
    "from datetime import datetime, time, timedelta"
   ]
  },
  {
   "cell_type": "code",
   "execution_count": 2,
   "metadata": {},
   "outputs": [
    {
     "name": "stdout",
     "output_type": "stream",
     "text": [
      "./partner_files/data.xlsx\n"
     ]
    }
   ],
   "source": [
    "# function to combine files, a new file named new.csv would be created.\n",
    "folder_path = \"./partner_files/*.xlsx\"\n",
    "files = []\n",
    "files.extend(glob.glob(folder_path))\n",
    "combined_dataframes = []\n",
    "\n",
    "if len(files) > 0:\n",
    "    for file in files:\n",
    "        print(file)\n",
    "        data = pd.read_excel(file)\n",
    "        combined_dataframes.append(data)\n",
    "\n",
    "combined_data = pd.concat(combined_dataframes, ignore_index=True)\n",
    "combined_data.to_csv(\"new.csv\", index=False)"
   ]
  },
  {
   "cell_type": "code",
   "execution_count": 39,
   "metadata": {},
   "outputs": [
    {
     "data": {
      "text/plain": [
       "Index(['Partner Name', 'MIF', 'Conpen Ratio', 'Warranty + Contract ', 'C&M'], dtype='object')"
      ]
     },
     "execution_count": 39,
     "metadata": {},
     "output_type": "execute_result"
    }
   ],
   "source": [
    "# Import MIF Data\n",
    "mif = pd.read_excel('mif.xlsx')\n",
    "mif.columns"
   ]
  },
  {
   "cell_type": "code",
   "execution_count": 3,
   "metadata": {},
   "outputs": [],
   "source": [
    "# functions.\n",
    "def time_difference(call_time, arrival_time):\n",
    "    day_diff = abs((arrival_time.date() - call_time.date()).days)\n",
    "\n",
    "    if day_diff == 0:\n",
    "        hours_diff = (arrival_time - call_time).total_seconds() / 3600\n",
    "        if call_time.hour < 9:\n",
    "            hours_before_9_am = 9 - call_time.hour\n",
    "            hours_diff -= hours_before_9_am\n",
    "        if arrival_time.hour >= 18:\n",
    "            hours_after_18 = arrival_time.hour - 18\n",
    "            hours_diff -= hours_after_18\n",
    "    else:\n",
    "        non_working_hours = 15 * day_diff\n",
    "        hours_diff = (arrival_time - call_time).total_seconds() / 3600\n",
    "        hours_diff = hours_diff - non_working_hours\n",
    "        if call_time.hour < 9:\n",
    "            call_to_9_am = (min(call_time.replace(hour=9), arrival_time) - call_time).total_seconds() / 3600\n",
    "            hours_diff = hours_diff - call_to_9_am\n",
    "        if arrival_time.hour >= 18:\n",
    "            after_6_pm = (arrival_time - max(arrival_time.replace(hour=18), call_time)).total_seconds() / 3600\n",
    "            hours_diff -= after_6_pm\n",
    "        if call_time.hour >= 18:\n",
    "            hours_after_6_pm = call_time.hour - 18\n",
    "            hours_diff += hours_after_6_pm\n",
    "\n",
    "    \n",
    "    return hours_diff"
   ]
  },
  {
   "cell_type": "code",
   "execution_count": 4,
   "metadata": {},
   "outputs": [],
   "source": [
    "def format_hours_decimal(hours_decimal):\n",
    "    # Split the hours_decimal into whole hours and remaining minutes\n",
    "    hours, remainder = divmod(hours_decimal, 1)\n",
    "    minutes = remainder * 60\n",
    "\n",
    "    # Format the result as HH:MM\n",
    "    formatted_time = \"{:02d}:{:02d}\".format(int(hours), int(minutes))\n",
    "    return formatted_time\n"
   ]
  },
  {
   "cell_type": "code",
   "execution_count": 5,
   "metadata": {},
   "outputs": [
    {
     "data": {
      "text/plain": [
       "Index(['Timestamp', 'Complaint Number', 'Call Resolution Type',\n",
       "       'Customer Name', 'City/Address', 'Contact Person', 'Contact No',\n",
       "       'Customer E-Mail', 'Machine Serial Number', 'Model', 'Call Type',\n",
       "       'Call Date', 'Call Time', 'Call Status', 'Reason For Broken',\n",
       "       'Description of Spare', 'Arrival Date', 'Arrival Time',\n",
       "       ' Completion Date', 'Completion Time', 'Colour Counter',\n",
       "       'Black Counter', 'Total Counter', 'Symptom', 'Cause of problem',\n",
       "       'Action taken', 'Contract Status', 'Engineer Name', 'EPBB Connected?',\n",
       "       'Partner Name', 'Spares/Consumables Replaced', 'Please upload SCR'],\n",
       "      dtype='object')"
      ]
     },
     "execution_count": 5,
     "metadata": {},
     "output_type": "execute_result"
    }
   ],
   "source": [
    "combined_data.columns"
   ]
  },
  {
   "cell_type": "code",
   "execution_count": 45,
   "metadata": {},
   "outputs": [],
   "source": [
    "# Making the partner dashboard..\n",
    "all_partners = np.unique(combined_data['Partner Name'])\n",
    "partner_info_list = []\n",
    "\n",
    "for partner in all_partners:\n",
    "    partner_info = {}\n",
    "    rts = [] # for response times.\n",
    "    service_times = [] # for service times.\n",
    "    down_times = [] # for down times = completion time - call time.\n",
    "    FTF = 0\n",
    "\n",
    "    # partner information.\n",
    "    partner_data = data[data['Partner Name'] == partner]\n",
    "\n",
    "    # partner calls.\n",
    "    total_calls = len(partner_data)\n",
    "\n",
    "    # partner response time.\n",
    "    for i in range(total_calls):\n",
    "        call_date = partner_data['Call Date'].iloc[i]\n",
    "        arrival_date = partner_data['Arrival Date'].iloc[i]\n",
    "        rt = time_difference(call_date, arrival_date)\n",
    "        rts.append(rt)\n",
    "    \n",
    "    rts = pd.Series(rts)\n",
    "\n",
    "    # average service time.\n",
    "    for i in range(total_calls):\n",
    "        arrival_date = partner_data['Arrival Date'].iloc[i]\n",
    "        completion_date = partner_data[' Completion Date'].iloc[i]\n",
    "        service_time = (completion_date - arrival_date).total_seconds() / 3600\n",
    "        service_times.append(service_time)\n",
    "\n",
    "    service_times = pd.Series(service_times)\n",
    "\n",
    "    # average down time.\n",
    "    for i in range(total_calls):\n",
    "        call_date = partner_data['Call Date'].iloc[i]\n",
    "        completion_date = partner_data[' Completion Date'].iloc[i]\n",
    "        downtime = time_difference(call_date, completion_date)\n",
    "        down_times.append(downtime)\n",
    "        remote_resolution_calls = len(partner_data[partner_data['Call Resolution Type'] == 'Remote Resolution'])\n",
    "        # FTF = arrival date and completion date are the same.\n",
    "        if abs(arrival_date.date() == completion_date.date()):\n",
    "            FTF = FTF + 1\n",
    "\n",
    "    down_times = pd.Series(down_times)\n",
    "\n",
    "    # average productivty\n",
    "    on_board_engineers = np.unique(partner_data['Engineer Name'])\n",
    "    engineer_calls = []\n",
    "    for engineer in on_board_engineers:\n",
    "        total_calls_by_engineer = len(partner_data[partner_data['Engineer Name'] == engineer])\n",
    "        engineer_calls.append(total_calls_by_engineer)\n",
    "    \n",
    "    engineer_calls = pd.Series(engineer_calls)\n",
    "\n",
    "    # Service Coverage Ratio\n",
    "    total_mif = mif['MIF'][mif['Partner Name'] == partner].item()\n",
    "\n",
    "    # C%M Ratio\n",
    "    total_CM_calls = len(partner_data['Contract Status'] == 'C&M')\n",
    "    total_cm_mif = mif['C&M'][mif['Partner Name'] == partner].item()\n",
    "\n",
    "    # CM, PM Ratio\n",
    "    total_maintainance_calls = len(partner_data[partner_data['Call Type'] == 'CM'])\n",
    "    total_pm_calls = len(partner_data[partner_data['Call Type'] == 'PM'])\n",
    "    total_cc_calls = len(partner_data[partner_data['Call Type'] == 'CC'])\n",
    "\n",
    "    partner_info[\"Partner Name\"] = partner\n",
    "    partner_info[\"Total Calls\"] = total_calls\n",
    "    partner_info[\"Average Response Time (Hours)\"] = format_hours_decimal(rts.mean())\n",
    "    partner_info['Average Service Time (Hours)'] = format_hours_decimal(service_times.mean())\n",
    "    partner_info['Average Downtime (Hours)'] = format_hours_decimal(down_times.mean())\n",
    "    partner_info['Remote Resolution Ratio'] = remote_resolution_calls / total_calls\n",
    "    partner_info['Per Day Productivity'] = (total_calls / len(np.unique(partner_data['Engineer Name']))) / 25\n",
    "    partner_info['Service Coverage Ratio %'] = (total_calls / total_mif) * 100\n",
    "    partner_info['On Board Engineer'] = len(np.unique(partner_data['Engineer Name']))\n",
    "    partner_info['Calls Per Day (Mean) %'] = (engineer_calls.mean() / 25)\n",
    "    partner_info['Calls Per Day (Median) %'] = (engineer_calls.median() / 25)\n",
    "    partner_info['C&M Connect Ratio %'] = (total_CM_calls / total_cm_mif) * 100\n",
    "    partner_info['CM Ratio'] = total_maintainance_calls / total_calls\n",
    "    partner_info['PM Ratio'] = total_pm_calls / total_calls\n",
    "    partner_info['FTS Percentage'] = (FTF / total_maintainance_calls) * 100\n",
    "    partner_info['CC Ratio'] = total_cc_calls / total_calls\n",
    "    partner_info_list.append(partner_info)\n",
    "\n",
    "partner_dashboard = pd.DataFrame(partner_info_list)\n",
    "partner_dashboard.to_csv('partner_dashboard.csv', index=False)"
   ]
  },
  {
   "cell_type": "code",
   "execution_count": 116,
   "metadata": {},
   "outputs": [],
   "source": [
    "# Engineer Dashboard.\n"
   ]
  }
 ],
 "metadata": {
  "kernelspec": {
   "display_name": "base",
   "language": "python",
   "name": "python3"
  },
  "language_info": {
   "codemirror_mode": {
    "name": "ipython",
    "version": 3
   },
   "file_extension": ".py",
   "mimetype": "text/x-python",
   "name": "python",
   "nbconvert_exporter": "python",
   "pygments_lexer": "ipython3",
   "version": "3.10.14"
  }
 },
 "nbformat": 4,
 "nbformat_minor": 2
}
